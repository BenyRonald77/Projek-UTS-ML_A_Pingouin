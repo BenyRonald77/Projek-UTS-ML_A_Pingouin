{
 "cells": [
  {
   "cell_type": "markdown",
   "id": "f76b94de",
   "metadata": {},
   "source": [
    "# 🌤️ Klasifikasi Prakiraan Cuaca\n"
   ]
  },
  {
   "cell_type": "code",
   "execution_count": 1,
   "id": "58526dd6",
   "metadata": {},
   "outputs": [],
   "source": [
    "\n",
    "import numpy as np\n",
    "import pandas as pd                            \n",
    "\n",
    "import matplotlib.pyplot as plt\n",
    "from sklearn.preprocessing import PolynomialFeatures\n",
    "from sklearn.model_selection import train_test_split            \n",
    "from sklearn.model_selection import StratifiedKFold, GridSearchCV\n",
    "\n",
    "from sklearn.preprocessing import MinMaxScaler,  StandardScaler\n",
    "from sklearn.feature_selection import SelectKBest, SelectPercentile, mutual_info_classif\n",
    "\n",
    "from sklearn.linear_model import LogisticRegression               \n",
    "from sklearn.ensemble import RandomForestClassifier                   \n",
    "\n",
    "\n",
    "from sklearn.pipeline import Pipeline\n",
    "from sklearn.base import clone\n",
    "import time\n",
    "\n",
    "from sklearn.metrics import (\n",
    "    confusion_matrix,\n",
    "    ConfusionMatrixDisplay,\n",
    "    classification_report\n",
    ")\n"
   ]
  },
  {
   "cell_type": "markdown",
   "id": "842ffc14",
   "metadata": {},
   "source": [
    "## **Loading Data**"
   ]
  },
  {
   "cell_type": "code",
   "execution_count": 2,
   "id": "f81d832b",
   "metadata": {},
   "outputs": [
    {
     "data": {
      "text/html": [
       "<div>\n",
       "<style scoped>\n",
       "    .dataframe tbody tr th:only-of-type {\n",
       "        vertical-align: middle;\n",
       "    }\n",
       "\n",
       "    .dataframe tbody tr th {\n",
       "        vertical-align: top;\n",
       "    }\n",
       "\n",
       "    .dataframe thead th {\n",
       "        text-align: right;\n",
       "    }\n",
       "</style>\n",
       "<table border=\"1\" class=\"dataframe\">\n",
       "  <thead>\n",
       "    <tr style=\"text-align: right;\">\n",
       "      <th></th>\n",
       "      <th>Suhu (°C)</th>\n",
       "      <th>Kelembapan (%)</th>\n",
       "      <th>Tekanan (hPa)</th>\n",
       "      <th>Kecepatan Angin (km/jam)</th>\n",
       "      <th>Curah Hujan (mm)</th>\n",
       "      <th>Awan (%)</th>\n",
       "      <th>Radiasi Matahari (W/m²)</th>\n",
       "      <th>Ketinggian (mdpl)</th>\n",
       "      <th>Kelembapan Tanah (%)</th>\n",
       "      <th>pH Tanah</th>\n",
       "      <th>Prakiraan Cuaca</th>\n",
       "    </tr>\n",
       "  </thead>\n",
       "  <tbody>\n",
       "    <tr>\n",
       "      <th>0</th>\n",
       "      <td>25.71</td>\n",
       "      <td>96.1</td>\n",
       "      <td>959.4</td>\n",
       "      <td>14.1</td>\n",
       "      <td>28.86</td>\n",
       "      <td>57.7</td>\n",
       "      <td>333.0</td>\n",
       "      <td>252.9</td>\n",
       "      <td>31.2</td>\n",
       "      <td>6.44</td>\n",
       "      <td>Hujan</td>\n",
       "    </tr>\n",
       "    <tr>\n",
       "      <th>1</th>\n",
       "      <td>32.25</td>\n",
       "      <td>51.7</td>\n",
       "      <td>988.1</td>\n",
       "      <td>22.5</td>\n",
       "      <td>17.44</td>\n",
       "      <td>26.6</td>\n",
       "      <td>104.2</td>\n",
       "      <td>104.3</td>\n",
       "      <td>14.0</td>\n",
       "      <td>4.07</td>\n",
       "      <td>Cerah</td>\n",
       "    </tr>\n",
       "    <tr>\n",
       "      <th>2</th>\n",
       "      <td>26.94</td>\n",
       "      <td>89.7</td>\n",
       "      <td>975.6</td>\n",
       "      <td>27.1</td>\n",
       "      <td>35.94</td>\n",
       "      <td>NaN</td>\n",
       "      <td>288.2</td>\n",
       "      <td>301.9</td>\n",
       "      <td>40.0</td>\n",
       "      <td>4.04</td>\n",
       "      <td>Hujan</td>\n",
       "    </tr>\n",
       "    <tr>\n",
       "      <th>3</th>\n",
       "      <td>25.34</td>\n",
       "      <td>76.0</td>\n",
       "      <td>983.1</td>\n",
       "      <td>15.3</td>\n",
       "      <td>25.56</td>\n",
       "      <td>18.4</td>\n",
       "      <td>729.5</td>\n",
       "      <td>19.2</td>\n",
       "      <td>31.7</td>\n",
       "      <td>6.24</td>\n",
       "      <td>Hujan</td>\n",
       "    </tr>\n",
       "    <tr>\n",
       "      <th>4</th>\n",
       "      <td>34.25</td>\n",
       "      <td>46.7</td>\n",
       "      <td>959.8</td>\n",
       "      <td>3.9</td>\n",
       "      <td>0.21</td>\n",
       "      <td>27.3</td>\n",
       "      <td>487.5</td>\n",
       "      <td>223.3</td>\n",
       "      <td>59.0</td>\n",
       "      <td>6.68</td>\n",
       "      <td>Cerah</td>\n",
       "    </tr>\n",
       "  </tbody>\n",
       "</table>\n",
       "</div>"
      ],
      "text/plain": [
       "   Suhu (°C)  Kelembapan (%)  Tekanan (hPa)  Kecepatan Angin (km/jam)  \\\n",
       "0      25.71            96.1          959.4                      14.1   \n",
       "1      32.25            51.7          988.1                      22.5   \n",
       "2      26.94            89.7          975.6                      27.1   \n",
       "3      25.34            76.0          983.1                      15.3   \n",
       "4      34.25            46.7          959.8                       3.9   \n",
       "\n",
       "   Curah Hujan (mm)  Awan (%)  Radiasi Matahari (W/m²)  Ketinggian (mdpl)  \\\n",
       "0             28.86      57.7                    333.0              252.9   \n",
       "1             17.44      26.6                    104.2              104.3   \n",
       "2             35.94       NaN                    288.2              301.9   \n",
       "3             25.56      18.4                    729.5               19.2   \n",
       "4              0.21      27.3                    487.5              223.3   \n",
       "\n",
       "   Kelembapan Tanah (%)  pH Tanah Prakiraan Cuaca  \n",
       "0                  31.2      6.44           Hujan  \n",
       "1                  14.0      4.07           Cerah  \n",
       "2                  40.0      4.04           Hujan  \n",
       "3                  31.7      6.24           Hujan  \n",
       "4                  59.0      6.68           Cerah  "
      ]
     },
     "execution_count": 2,
     "metadata": {},
     "output_type": "execute_result"
    }
   ],
   "source": [
    "df_cuaca = pd.read_csv('dpc.csv',header=0)\n",
    "\n",
    "df_cuaca.head()  "
   ]
  },
  {
   "cell_type": "code",
   "execution_count": 3,
   "id": "798a2bca",
   "metadata": {},
   "outputs": [
    {
     "name": "stdout",
     "output_type": "stream",
     "text": [
      "Jumlah baris, kolom: (800, 11)\n",
      "\n",
      "Tipe data:\n",
      "Suhu (°C)                   float64\n",
      "Kelembapan (%)              float64\n",
      "Tekanan (hPa)               float64\n",
      "Kecepatan Angin (km/jam)    float64\n",
      "Curah Hujan (mm)            float64\n",
      "Awan (%)                    float64\n",
      "Radiasi Matahari (W/m²)     float64\n",
      "Ketinggian (mdpl)           float64\n",
      "Kelembapan Tanah (%)        float64\n",
      "pH Tanah                    float64\n",
      "Prakiraan Cuaca              object\n",
      "dtype: object\n"
     ]
    }
   ],
   "source": [
    "print(\"Jumlah baris, kolom:\", df_cuaca.shape)  \n",
    "print(\"\\nTipe data:\")\n",
    "print(df_cuaca.dtypes)"
   ]
  },
  {
   "cell_type": "code",
   "execution_count": 4,
   "id": "fadd6c8e",
   "metadata": {},
   "outputs": [
    {
     "data": {
      "text/html": [
       "<div>\n",
       "<style scoped>\n",
       "    .dataframe tbody tr th:only-of-type {\n",
       "        vertical-align: middle;\n",
       "    }\n",
       "\n",
       "    .dataframe tbody tr th {\n",
       "        vertical-align: top;\n",
       "    }\n",
       "\n",
       "    .dataframe thead th {\n",
       "        text-align: right;\n",
       "    }\n",
       "</style>\n",
       "<table border=\"1\" class=\"dataframe\">\n",
       "  <thead>\n",
       "    <tr style=\"text-align: right;\">\n",
       "      <th></th>\n",
       "      <th>Suhu (°C)</th>\n",
       "      <th>Kelembapan (%)</th>\n",
       "      <th>Kecepatan Angin (km/jam)</th>\n",
       "      <th>Curah Hujan (mm)</th>\n",
       "      <th>Awan (%)</th>\n",
       "      <th>Radiasi Matahari (W/m²)</th>\n",
       "      <th>Ketinggian (mdpl)</th>\n",
       "      <th>Prakiraan Cuaca</th>\n",
       "    </tr>\n",
       "  </thead>\n",
       "  <tbody>\n",
       "    <tr>\n",
       "      <th>0</th>\n",
       "      <td>25.71</td>\n",
       "      <td>96.1</td>\n",
       "      <td>14.1</td>\n",
       "      <td>28.86</td>\n",
       "      <td>57.7</td>\n",
       "      <td>333.0</td>\n",
       "      <td>252.9</td>\n",
       "      <td>Hujan</td>\n",
       "    </tr>\n",
       "    <tr>\n",
       "      <th>1</th>\n",
       "      <td>32.25</td>\n",
       "      <td>51.7</td>\n",
       "      <td>22.5</td>\n",
       "      <td>17.44</td>\n",
       "      <td>26.6</td>\n",
       "      <td>104.2</td>\n",
       "      <td>104.3</td>\n",
       "      <td>Cerah</td>\n",
       "    </tr>\n",
       "    <tr>\n",
       "      <th>2</th>\n",
       "      <td>26.94</td>\n",
       "      <td>89.7</td>\n",
       "      <td>27.1</td>\n",
       "      <td>35.94</td>\n",
       "      <td>NaN</td>\n",
       "      <td>288.2</td>\n",
       "      <td>301.9</td>\n",
       "      <td>Hujan</td>\n",
       "    </tr>\n",
       "    <tr>\n",
       "      <th>3</th>\n",
       "      <td>25.34</td>\n",
       "      <td>76.0</td>\n",
       "      <td>15.3</td>\n",
       "      <td>25.56</td>\n",
       "      <td>18.4</td>\n",
       "      <td>729.5</td>\n",
       "      <td>19.2</td>\n",
       "      <td>Hujan</td>\n",
       "    </tr>\n",
       "    <tr>\n",
       "      <th>4</th>\n",
       "      <td>34.25</td>\n",
       "      <td>46.7</td>\n",
       "      <td>3.9</td>\n",
       "      <td>0.21</td>\n",
       "      <td>27.3</td>\n",
       "      <td>487.5</td>\n",
       "      <td>223.3</td>\n",
       "      <td>Cerah</td>\n",
       "    </tr>\n",
       "  </tbody>\n",
       "</table>\n",
       "</div>"
      ],
      "text/plain": [
       "   Suhu (°C)  Kelembapan (%)  Kecepatan Angin (km/jam)  Curah Hujan (mm)  \\\n",
       "0      25.71            96.1                      14.1             28.86   \n",
       "1      32.25            51.7                      22.5             17.44   \n",
       "2      26.94            89.7                      27.1             35.94   \n",
       "3      25.34            76.0                      15.3             25.56   \n",
       "4      34.25            46.7                       3.9              0.21   \n",
       "\n",
       "   Awan (%)  Radiasi Matahari (W/m²)  Ketinggian (mdpl) Prakiraan Cuaca  \n",
       "0      57.7                    333.0              252.9           Hujan  \n",
       "1      26.6                    104.2              104.3           Cerah  \n",
       "2       NaN                    288.2              301.9           Hujan  \n",
       "3      18.4                    729.5               19.2           Hujan  \n",
       "4      27.3                    487.5              223.3           Cerah  "
      ]
     },
     "execution_count": 4,
     "metadata": {},
     "output_type": "execute_result"
    }
   ],
   "source": [
    "df_cuaca = df_cuaca.drop(columns=['Tekanan (hPa)', 'pH Tanah', 'Kelembapan Tanah (%)'], errors='ignore')\n",
    "\n",
    "# Tampilkan 5 baris pertama untuk verifikasi\n",
    "df_cuaca.head()"
   ]
  },
  {
   "cell_type": "markdown",
   "id": "4bdd03d5",
   "metadata": {},
   "source": [
    "## **Pembersihan Data & Tangani Missing Value & Nan**"
   ]
  },
  {
   "cell_type": "code",
   "execution_count": 5,
   "id": "817546bf",
   "metadata": {},
   "outputs": [
    {
     "name": "stdout",
     "output_type": "stream",
     "text": [
      "\n",
      "Jumlah nilai kosong (null) per kolom:\n",
      " Suhu (°C)                   40\n",
      "Kelembapan (%)              40\n",
      "Kecepatan Angin (km/jam)     0\n",
      "Curah Hujan (mm)            40\n",
      "Awan (%)                    40\n",
      "Radiasi Matahari (W/m²)      0\n",
      "Ketinggian (mdpl)            0\n",
      "Prakiraan Cuaca              0\n",
      "dtype: int64\n",
      "\n",
      "Jumlah nilai NaN per kolom:\n",
      " Suhu (°C)                   40\n",
      "Kelembapan (%)              40\n",
      "Kecepatan Angin (km/jam)     0\n",
      "Curah Hujan (mm)            40\n",
      "Awan (%)                    40\n",
      "Radiasi Matahari (W/m²)      0\n",
      "Ketinggian (mdpl)            0\n",
      "Prakiraan Cuaca              0\n",
      "dtype: int64\n"
     ]
    }
   ],
   "source": [
    "# (1) Cek nilai NULL\n",
    "print(\"\\nJumlah nilai kosong (null) per kolom:\\n\", df_cuaca.isnull().sum())\n",
    "\n",
    "# (2) Cek nilai NaN\n",
    "nan_counts = df_cuaca.isna().sum()\n",
    "print(\"\\nJumlah nilai NaN per kolom:\\n\", nan_counts)\n"
   ]
  },
  {
   "cell_type": "code",
   "execution_count": 6,
   "id": "b1e876f2",
   "metadata": {},
   "outputs": [
    {
     "name": "stdout",
     "output_type": "stream",
     "text": [
      "Median Suhu (°C): 27.43\n",
      "Median Awan (%): 49.849999999999994\n",
      "\n",
      "Jumlah nilai kosong setelah penanganan:\n",
      "Suhu (°C)                   0\n",
      "Kelembapan (%)              0\n",
      "Kecepatan Angin (km/jam)    0\n",
      "Curah Hujan (mm)            0\n",
      "Awan (%)                    0\n",
      "Radiasi Matahari (W/m²)     0\n",
      "Ketinggian (mdpl)           0\n",
      "Prakiraan Cuaca             0\n",
      "dtype: int64\n"
     ]
    }
   ],
   "source": [
    "median_suhu = df_cuaca['Suhu (°C)'].median()\n",
    "median_awan = df_cuaca['Awan (%)'].median()\n",
    "\n",
    "# Isi nilai NaN dengan median\n",
    "df_cuaca['Suhu (°C)'] = df_cuaca['Suhu (°C)'].fillna(median_suhu)\n",
    "df_cuaca['Awan (%)'] = df_cuaca['Awan (%)'].fillna(median_awan)\n",
    "df_cuaca['Kelembapan (%)'] = df_cuaca['Kelembapan (%)'].fillna(median_awan)\n",
    "df_cuaca['Curah Hujan (mm)'] = df_cuaca['Curah Hujan (mm)'].fillna(median_awan)\n",
    "\n",
    "# Tampilkan hasil median\n",
    "print(\"Median Suhu (°C):\", median_suhu)\n",
    "print(\"Median Awan (%):\", median_awan)\n",
    "\n",
    "# Cek kembali apakah masih ada NaN\n",
    "print(\"\\nJumlah nilai kosong setelah penanganan:\")\n",
    "print(df_cuaca.isnull().sum())"
   ]
  },
  {
   "cell_type": "code",
   "execution_count": 7,
   "id": "996e64bf",
   "metadata": {},
   "outputs": [
    {
     "name": "stdout",
     "output_type": "stream",
     "text": [
      "\n",
      "Setelah imputasi, nilai kosong per kolom:\n",
      " Suhu (°C)                   0\n",
      "Kelembapan (%)              0\n",
      "Kecepatan Angin (km/jam)    0\n",
      "Curah Hujan (mm)            0\n",
      "Awan (%)                    0\n",
      "Radiasi Matahari (W/m²)     0\n",
      "Ketinggian (mdpl)           0\n",
      "Prakiraan Cuaca             0\n",
      "dtype: int64\n"
     ]
    }
   ],
   "source": [
    "# Validasi ulang\n",
    "print(\"\\nSetelah imputasi, nilai kosong per kolom:\\n\", df_cuaca.isnull().sum())"
   ]
  },
  {
   "cell_type": "markdown",
   "id": "4341abad",
   "metadata": {},
   "source": [
    "## **Pembersihan Data Cek & Hapus Duplikat**"
   ]
  },
  {
   "cell_type": "code",
   "execution_count": 8,
   "id": "b81642e3",
   "metadata": {},
   "outputs": [
    {
     "name": "stdout",
     "output_type": "stream",
     "text": [
      "Jumlah baris duplikat (terhitung ganda): 0\n",
      "Bentuk data sebelum/sesudah hapus duplikat: (800, 8) -> (800, 8)\n"
     ]
    }
   ],
   "source": [
    "before = df_cuaca.shape\n",
    "dupes = df_cuaca[df_cuaca.duplicated(keep=False)]\n",
    "print(f\"Jumlah baris duplikat (terhitung ganda): {dupes.shape[0]}\")\n",
    "df_cuaca2 = df_cuaca.drop_duplicates(keep='first')\n",
    "print(\"Bentuk data sebelum/sesudah hapus duplikat:\", before, \"->\", df_cuaca.shape)\n"
   ]
  },
  {
   "cell_type": "markdown",
   "id": "1da96a01",
   "metadata": {},
   "source": [
    "## **Pembersihan Data Cek & Hapus Outlier**"
   ]
  },
  {
   "cell_type": "code",
   "execution_count": 9,
   "id": "63f7e39c",
   "metadata": {},
   "outputs": [
    {
     "name": "stdout",
     "output_type": "stream",
     "text": [
      "\n",
      "Jumlah baris yang terdeteksi memiliki outlier: 0\n",
      "Ukuran Data Asli: (800, 8)\n",
      "Ukuran Data Setelah Outlier Dihapus: (800, 8)\n",
      "Jumlah baris yang dihapus: 0\n"
     ]
    }
   ],
   "source": [
    "\n",
    "# Deteksi OUTLIER dengan metode IQR \n",
    "df_cuaca3 = df_cuaca2.select_dtypes(include=[np.number])  \n",
    "Q1 = df_cuaca3.quantile(0.25)\n",
    "Q3 = df_cuaca3.quantile(0.75)\n",
    "IQR = Q3 - Q1\n",
    "outliers = ((df_cuaca3 < (Q1 - 1.5 * IQR)) | (df_cuaca3 > (Q3 + 1.5 * IQR))).any(axis=1)\n",
    "print(\"\\nJumlah baris yang terdeteksi memiliki outlier:\", outliers.sum())\n",
    "\n",
    "# Hapus baris yang memiliki outlier\n",
    "df_cuaca_clean = df_cuaca2.loc[~outliers]\n",
    "print(\"Ukuran Data Asli:\", df_cuaca2.shape)\n",
    "print(\"Ukuran Data Setelah Outlier Dihapus:\", df_cuaca_clean.shape)\n",
    "print(\"Jumlah baris yang dihapus:\", outliers.sum())"
   ]
  },
  {
   "cell_type": "markdown",
   "id": "5f5244fd",
   "metadata": {},
   "source": [
    "##  **Encode Label & Pisahkan Fitur–Target**\n"
   ]
  },
  {
   "cell_type": "code",
   "execution_count": 10,
   "id": "2246a75d",
   "metadata": {},
   "outputs": [
    {
     "data": {
      "text/html": [
       "<div>\n",
       "<style scoped>\n",
       "    .dataframe tbody tr th:only-of-type {\n",
       "        vertical-align: middle;\n",
       "    }\n",
       "\n",
       "    .dataframe tbody tr th {\n",
       "        vertical-align: top;\n",
       "    }\n",
       "\n",
       "    .dataframe thead th {\n",
       "        text-align: right;\n",
       "    }\n",
       "</style>\n",
       "<table border=\"1\" class=\"dataframe\">\n",
       "  <thead>\n",
       "    <tr style=\"text-align: right;\">\n",
       "      <th></th>\n",
       "      <th>Suhu (°C)</th>\n",
       "      <th>Kelembapan (%)</th>\n",
       "      <th>Kecepatan Angin (km/jam)</th>\n",
       "      <th>Curah Hujan (mm)</th>\n",
       "      <th>Awan (%)</th>\n",
       "      <th>Radiasi Matahari (W/m²)</th>\n",
       "      <th>Ketinggian (mdpl)</th>\n",
       "      <th>Prakiraan Cuaca</th>\n",
       "    </tr>\n",
       "  </thead>\n",
       "  <tbody>\n",
       "    <tr>\n",
       "      <th>0</th>\n",
       "      <td>25.71</td>\n",
       "      <td>96.1</td>\n",
       "      <td>14.1</td>\n",
       "      <td>28.86</td>\n",
       "      <td>57.70</td>\n",
       "      <td>333.0</td>\n",
       "      <td>252.9</td>\n",
       "      <td>0</td>\n",
       "    </tr>\n",
       "    <tr>\n",
       "      <th>1</th>\n",
       "      <td>32.25</td>\n",
       "      <td>51.7</td>\n",
       "      <td>22.5</td>\n",
       "      <td>17.44</td>\n",
       "      <td>26.60</td>\n",
       "      <td>104.2</td>\n",
       "      <td>104.3</td>\n",
       "      <td>1</td>\n",
       "    </tr>\n",
       "    <tr>\n",
       "      <th>2</th>\n",
       "      <td>26.94</td>\n",
       "      <td>89.7</td>\n",
       "      <td>27.1</td>\n",
       "      <td>35.94</td>\n",
       "      <td>49.85</td>\n",
       "      <td>288.2</td>\n",
       "      <td>301.9</td>\n",
       "      <td>0</td>\n",
       "    </tr>\n",
       "    <tr>\n",
       "      <th>3</th>\n",
       "      <td>25.34</td>\n",
       "      <td>76.0</td>\n",
       "      <td>15.3</td>\n",
       "      <td>25.56</td>\n",
       "      <td>18.40</td>\n",
       "      <td>729.5</td>\n",
       "      <td>19.2</td>\n",
       "      <td>0</td>\n",
       "    </tr>\n",
       "    <tr>\n",
       "      <th>4</th>\n",
       "      <td>34.25</td>\n",
       "      <td>46.7</td>\n",
       "      <td>3.9</td>\n",
       "      <td>0.21</td>\n",
       "      <td>27.30</td>\n",
       "      <td>487.5</td>\n",
       "      <td>223.3</td>\n",
       "      <td>1</td>\n",
       "    </tr>\n",
       "  </tbody>\n",
       "</table>\n",
       "</div>"
      ],
      "text/plain": [
       "   Suhu (°C)  Kelembapan (%)  Kecepatan Angin (km/jam)  Curah Hujan (mm)  \\\n",
       "0      25.71            96.1                      14.1             28.86   \n",
       "1      32.25            51.7                      22.5             17.44   \n",
       "2      26.94            89.7                      27.1             35.94   \n",
       "3      25.34            76.0                      15.3             25.56   \n",
       "4      34.25            46.7                       3.9              0.21   \n",
       "\n",
       "   Awan (%)  Radiasi Matahari (W/m²)  Ketinggian (mdpl)  Prakiraan Cuaca  \n",
       "0     57.70                    333.0              252.9                0  \n",
       "1     26.60                    104.2              104.3                1  \n",
       "2     49.85                    288.2              301.9                0  \n",
       "3     18.40                    729.5               19.2                0  \n",
       "4     27.30                    487.5              223.3                1  "
      ]
     },
     "execution_count": 10,
     "metadata": {},
     "output_type": "execute_result"
    }
   ],
   "source": [
    "# ===============================\n",
    "# Encode Label & Pisahkan Fitur–Target\n",
    "# ===============================\n",
    "\n",
    "# Hujan   → 0 (Cuaca Hujan)\n",
    "# Cerah   → 1 (Cuaca Cerah)\n",
    "\n",
    "# Mengubah label prakiraan cuaca dari huruf menjadi angka\n",
    "df_cuaca2['Prakiraan Cuaca'] = df_cuaca2['Prakiraan Cuaca'].map({'Hujan': 0, 'Cerah': 1})\n",
    "\n",
    "# Menentukan X sebagai fitur (semua kolom kecuali 'Prakiraan Cuaca')\n",
    "X = df_cuaca2.drop(columns=['Prakiraan Cuaca'])\n",
    "\n",
    "# Menentukan y sebagai target (kolom 'Prakiraan Cuaca')\n",
    "y = df_cuaca2['Prakiraan Cuaca']\n",
    "\n",
    "# Menampilkan 5 baris pertama dataframe setelah perubahan\n",
    "df_cuaca2.head()\n"
   ]
  },
  {
   "cell_type": "markdown",
   "id": "5c553a9e",
   "metadata": {},
   "source": [
    "## **Pembagian Data: Train/Test Split**"
   ]
  },
  {
   "cell_type": "code",
   "execution_count": 11,
   "id": "8f64903c",
   "metadata": {},
   "outputs": [
    {
     "name": "stdout",
     "output_type": "stream",
     "text": [
      "Ukuran X_train, X_test: (560, 7) (240, 7)\n"
     ]
    }
   ],
   "source": [
    "X_train, X_test, y_train, y_test = train_test_split(\n",
    "    X, y, test_size=0.3, random_state = 45, stratify=y\n",
    ")                                                           \n",
    "print(\"Ukuran X_train, X_test:\", X_train.shape, X_test.shape)"
   ]
  },
  {
   "cell_type": "markdown",
   "id": "94146046",
   "metadata": {},
   "source": [
    "##  **Membangun Model Logistic Regression dengan Pipeline + GridSearchCV**"
   ]
  },
  {
   "cell_type": "code",
   "execution_count": 12,
   "id": "dd961667",
   "metadata": {},
   "outputs": [
    {
     "name": "stdout",
     "output_type": "stream",
     "text": [
      "Menjalankan GridSearch untuk Logistic Regression...\n",
      "Fitting 5 folds for each of 112 candidates, totalling 560 fits\n",
      "GridSearch Logistic Regression selesai dalam 6.57 detik\n"
     ]
    }
   ],
   "source": [
    "# ============================================================\n",
    "#  PIPELINE: Scaling → Feature Selection → Logistic Regression\n",
    "# ============================================================\n",
    "\n",
    "# Rancang pipeline: gabungkan preprocessing + feature selection + model\n",
    "pipe_lr = Pipeline(steps=[\n",
    "    ('scaler', MinMaxScaler()),             \n",
    "    ('feat_select', SelectKBest()),       \n",
    "    ('clf', LogisticRegression(      # model klasifikasi\n",
    "        class_weight='balanced',        \n",
    "        solver='liblinear',              \n",
    "        max_iter=500              \n",
    "    ))\n",
    "])\n",
    "\n",
    "# GridSearch: daftar kombinasi parameter yang akan diuji\n",
    "params_grid_lr = [\n",
    "    {\n",
    "        'feat_select__k': np.arange(2, 10),             \n",
    "        'clf__penalty': ['l1', 'l2'],                  \n",
    "        'clf__C': [0.01, 0.1, 1, 10],                   \n",
    "    },\n",
    "    {\n",
    "        'feat_select': [SelectPercentile()],                # alternatif: seleksi berdasar persentase\n",
    "        'feat_select__percentile': np.arange(20, 80, 10),\n",
    "        'clf__penalty': ['l1', 'l2'],\n",
    "        'clf__C': [0.01, 0.1, 1, 10],\n",
    "    }\n",
    "]\n",
    "\n",
    "# Stratified K-Fold: menjaga proporsi label seimbang di setiap fold CV\n",
    "SKF = StratifiedKFold(n_splits=5, shuffle=True, random_state=42)\n",
    "\n",
    "# Jalankan GridSearchCV untuk mencari kombinasi parameter terbaik\n",
    "gscv_lr = GridSearchCV(\n",
    "    pipe_lr,\n",
    "    params_grid_lr,\n",
    "    cv=SKF,\n",
    "    scoring='f1',       # metrik utama: F1-score\n",
    "    verbose=1,          # tampilkan progres selama proses\n",
    "    n_jobs=-1           # gunakan semua core CPU\n",
    ")\n",
    "\n",
    "print(\"Menjalankan GridSearch untuk Logistic Regression...\")\n",
    "start = time.time()\n",
    "gscv_lr.fit(X_train, y_train)\n",
    "print(f\"GridSearch Logistic Regression selesai dalam {time.time() - start:.2f} detik\")\n"
   ]
  },
  {
   "cell_type": "markdown",
   "id": "9e5e7344",
   "metadata": {},
   "source": [
    "## EVALUASI Model Logistic Regression"
   ]
  },
  {
   "cell_type": "code",
   "execution_count": 13,
   "id": "493a4087",
   "metadata": {},
   "outputs": [
    {
     "name": "stdout",
     "output_type": "stream",
     "text": [
      "CV Score (F1) terbaik: 0.923510290516842\n",
      "Kombinasi model terbaik: Pipeline(steps=[('scaler', MinMaxScaler()),\n",
      "                ('feat_select', SelectKBest(k=np.int64(5))),\n",
      "                ('clf',\n",
      "                 LogisticRegression(C=10, class_weight='balanced', max_iter=500,\n",
      "                                    penalty='l1', solver='liblinear'))])\n",
      "\n",
      "Skor Test (akurasi) Logistic Regression: 0.9458333333333333\n",
      "\n",
      "Fitur terbaik (terpilih): ['Suhu (°C)' 'Kecepatan Angin (km/jam)' 'Awan (%)'\n",
      " 'Radiasi Matahari (W/m²)' 'Ketinggian (mdpl)']\n"
     ]
    },
    {
     "data": {
      "image/png": "[encoded data removed]",
      "text/plain": [
       "<Figure size 640x480 with 2 Axes>"
      ]
     },
     "metadata": {},
     "output_type": "display_data"
    },
    {
     "name": "stdout",
     "output_type": "stream",
     "text": [
      "\n",
      "Classification Report — Logistic Regression:\n",
      "               precision    recall  f1-score   support\n",
      "\n",
      "           0       0.98      0.95      0.96       166\n",
      "           1       0.89      0.95      0.92        74\n",
      "\n",
      "    accuracy                           0.95       240\n",
      "   macro avg       0.93      0.95      0.94       240\n",
      "weighted avg       0.95      0.95      0.95       240\n",
      "\n"
     ]
    }
   ],
   "source": [
    "# Tampilkan hasil terbaik dari GridSearch\n",
    "print(\"CV Score (F1) terbaik:\", gscv_lr.best_score_)\n",
    "print(\"Kombinasi model terbaik:\", gscv_lr.best_estimator_)\n",
    "\n",
    "# Hitung akurasi model terbaik pada data uji\n",
    "lr_test_score = gscv_lr.best_estimator_.score(X_test, y_test)\n",
    "print(\"\\nSkor Test (akurasi) Logistic Regression:\", lr_test_score)\n",
    "\n",
    "# Tampilkan fitur terbaik (jika feature selector mendukung metode get_support)\n",
    "selector = gscv_lr.best_estimator_.named_steps['feat_select']\n",
    "if hasattr(selector, 'get_support'):\n",
    "    mask = selector.get_support()\n",
    "    selected = np.array(X.columns)[mask]\n",
    "    print(\"\\nFitur terbaik (terpilih):\", selected)\n",
    "\n",
    "# Buat prediksi pada data uji dan tampilkan Confusion Matrix\n",
    "lr_pred = gscv_lr.predict(X_test)\n",
    "cm_lr = confusion_matrix(y_test, lr_pred)\n",
    "disp_lr = ConfusionMatrixDisplay(confusion_matrix=cm_lr, display_labels=['0 = Hujan','1 = Cerah'])\n",
    "disp_lr.plot(cmap=plt.cm.Blues)\n",
    "plt.title(\"Confusion Matrix — Logistic Regression\")\n",
    "plt.show()\n",
    "\n",
    "# Tampilkan classification report (precision, recall, f1-score)\n",
    "print(\"\\nClassification Report — Logistic Regression:\\n\", classification_report(y_test, lr_pred))\n"
   ]
  },
  {
   "cell_type": "markdown",
   "id": "a13166ec",
   "metadata": {},
   "source": [
    "##  **Membangun Model Random Forest dengan Pipeline + GridSearchCV**"
   ]
  },
  {
   "cell_type": "code",
   "execution_count": 14,
   "id": "bf30f1a5",
   "metadata": {},
   "outputs": [
    {
     "name": "stdout",
     "output_type": "stream",
     "text": [
      "Menjalankan GridSearch untuk Random Forest...\n",
      "Fitting 5 folds for each of 405 candidates, totalling 2025 fits\n",
      "GridSearch Random Forest selesai dalam 136.35 detik\n"
     ]
    }
   ],
   "source": [
    "# ============================================================\n",
    "#  PIPELINE: Scaling → Feature Selection → Random Forest\n",
    "# ============================================================\n",
    "\n",
    "\n",
    "# Rancang pipeline: gabungkan scaling, seleksi fitur, dan model Random Forest\n",
    "pipe_rf = Pipeline(steps=[\n",
    "    ('scaling', MinMaxScaler()),              \n",
    "    ('feat_select', SelectKBest()),             \n",
    "    ('clf', RandomForestClassifier(      \n",
    "        class_weight='balanced',       \n",
    "        random_state=42,             \n",
    "        n_estimators=-1                    \n",
    "    ))\n",
    "])\n",
    "\n",
    "# GridSearch: dua jenis seleksi fitur (KBest dan Percentile) dengan kombinasi parameter model\n",
    "params_grid_rf = [\n",
    "    # Kandidat 1: pakai SelectKBest\n",
    "    {\n",
    "        'feat_select__k': np.arange(5, 15),        # jumlah fitur terbaik yang diuji\n",
    "        'clf__n_estimators': [200, 300, 500],      # jumlah pohon\n",
    "        'clf__max_depth': [None, 5, 10],           # batas kedalaman tiap pohon\n",
    "        'clf__min_samples_split': [2, 5, 10]       # jumlah minimal sampel untuk split node\n",
    "    },\n",
    "    # Kandidat 2: pakai SelectPercentile\n",
    "    {\n",
    "        'feat_select': [SelectPercentile()],\n",
    "        'feat_select__percentile': np.arange(30, 80, 10),\n",
    "        'clf__n_estimators': [200, 300, 500],\n",
    "        'clf__max_depth': [None, 5, 10],\n",
    "        'clf__min_samples_split': [2, 5, 10]\n",
    "    }\n",
    "]\n",
    "\n",
    "# StratifiedKFold: memastikan proporsi kelas tetap sama di setiap fold CV\n",
    "SKF = StratifiedKFold(n_splits=5, shuffle=True, random_state=42)                \n",
    "\n",
    "# Jalankan GridSearchCV: mencari kombinasi parameter terbaik dengan metrik F1\n",
    "gscv_rf = GridSearchCV(\n",
    "    pipe_rf,                 \n",
    "    params_grid_rf,          \n",
    "    cv=SKF,                 \n",
    "    scoring='f1',            \n",
    "    verbose=1,              \n",
    "    n_jobs=-1                \n",
    ")\n",
    "\n",
    "print(\"Menjalankan GridSearch untuk Random Forest...\")\n",
    "start = time.time()\n",
    "\n",
    "gscv_rf.fit(X_train, y_train)      \n",
    "\n",
    "print(f\"GridSearch Random Forest selesai dalam {time.time() - start:.2f} detik\")\n"
   ]
  },
  {
   "cell_type": "markdown",
   "id": "065c9eb1",
   "metadata": {},
   "source": [
    "\n",
    "## EVALUASI"
   ]
  },
  {
   "cell_type": "code",
   "execution_count": 15,
   "id": "f3766f32",
   "metadata": {},
   "outputs": [
    {
     "name": "stdout",
     "output_type": "stream",
     "text": [
      "CV Score (F1) terbaik: 0.9882340217073201\n",
      "Kombinasi model terbaik: Pipeline(steps=[('scaling', MinMaxScaler()),\n",
      "                ('feat_select', SelectPercentile(percentile=np.int64(30))),\n",
      "                ('clf',\n",
      "                 RandomForestClassifier(class_weight='balanced',\n",
      "                                        min_samples_split=10, n_estimators=200,\n",
      "                                        random_state=42))])\n",
      "\n",
      "Skor Test (akurasi) Random Forest: 0.9833333333333333\n",
      "\n",
      "Fitur terbaik (terpilih): ['Suhu (°C)' 'Awan (%)']\n"
     ]
    },
    {
     "data": {
      "image/png": "[encoded data removed]",
      "text/plain": [
       "<Figure size 640x480 with 2 Axes>"
      ]
     },
     "metadata": {},
     "output_type": "display_data"
    },
    {
     "name": "stdout",
     "output_type": "stream",
     "text": [
      "\n",
      "Classification Report — Random Forest:\n",
      "               precision    recall  f1-score   support\n",
      "\n",
      "           0       0.98      1.00      0.99       166\n",
      "           1       1.00      0.95      0.97        74\n",
      "\n",
      "    accuracy                           0.98       240\n",
      "   macro avg       0.99      0.97      0.98       240\n",
      "weighted avg       0.98      0.98      0.98       240\n",
      "\n"
     ]
    }
   ],
   "source": [
    "#  Evaluasi hasil GridSearch\n",
    "print(\"CV Score (F1) terbaik:\", gscv_rf.best_score_)\n",
    "print(\"Kombinasi model terbaik:\", gscv_rf.best_estimator_)     \n",
    "\n",
    "rf_test_score = gscv_rf.best_estimator_.score(X_test, y_test) \n",
    "print(\"\\nSkor Test (akurasi) Random Forest:\", rf_test_score)  \n",
    "\n",
    "#  Fitur terbaik (jika selector mendukung get_support)\n",
    "selector = gscv_rf.best_estimator_.named_steps['feat_select']\n",
    "if hasattr(selector, 'get_support'):\n",
    "    mask = selector.get_support()\n",
    "    selected = np.array(X.columns)[mask]\n",
    "    print(\"\\nFitur terbaik (terpilih):\", selected)\n",
    "\n",
    "#  Confusion Matrix & Classification Report\n",
    "rf_pred = gscv_rf.predict(X_test)              \n",
    "cm_rf = confusion_matrix(y_test, rf_pred)     \n",
    "disp_rf = ConfusionMatrixDisplay(confusion_matrix=cm_rf, display_labels=['0 = Hujan','1 = Cerah'])  \n",
    "disp_rf.plot(cmap=plt.cm.Greens)\n",
    "plt.title(\"Confusion Matrix — Random Forest\")\n",
    "plt.show()\n",
    "\n",
    "print(\"\\nClassification Report — Random Forest:\\n\", classification_report(y_test, rf_pred))  \n"
   ]
  },
  {
   "cell_type": "markdown",
   "id": "9e635a78",
   "metadata": {},
   "source": [
    "## **Langkah Akhir — Visualisasi Perbandingan Tiga Model Terbaik**"
   ]
  },
  {
   "cell_type": "code",
   "execution_count": 16,
   "id": "4d69216b",
   "metadata": {},
   "outputs": [
    {
     "data": {
      "image/png": "[encoded data removed]",
      "text/plain": [
       "<Figure size 1600x400 with 2 Axes>"
      ]
     },
     "metadata": {},
     "output_type": "display_data"
    }
   ],
   "source": [
    "# Buat figure dengan 2 subplot berdampingan (1 baris, 3 kolom)\n",
    "fig, (ax1, ax2) = plt.subplots(ncols=2, figsize=(16, 4))\n",
    "\n",
    "# Plot Confusion Matrix untuk Logistic Regression\n",
    "disp_lr.plot(ax=ax1, cmap=plt.cm.Blues, colorbar=False)\n",
    "ax1.set_title(\"Logistic Regression (L1)\")   # judul subplot pertama\n",
    "\n",
    "# Plot Confusion Matrix untuk Random Forest\n",
    "disp_rf.plot(ax=ax2, cmap=plt.cm.Greens, colorbar=False)\n",
    "ax2.set_title(\"Random Forest (Best Model)\") # judul subplot ketiga\n",
    "\n",
    "# Rapikan tata letak agar subplot tidak tumpang tindih\n",
    "plt.tight_layout()\n",
    "plt.show()  # tampilkan semua plot\n"
   ]
  },
  {
   "cell_type": "code",
   "execution_count": 17,
   "id": "17d91eb2",
   "metadata": {},
   "outputs": [
    {
     "name": "stdout",
     "output_type": "stream",
     "text": [
      "✅ Pipeline Random Forest terbaik berhasil disimpan ke 'BestModel_CLF_RandomForest_pingouin.pkl'\n"
     ]
    }
   ],
   "source": [
    "import pickle  \n",
    "\n",
    "# Simpan pipeline terbaik (bukan hanya model clf)\n",
    "best_rf_pipeline = gscv_rf.best_estimator_\n",
    "\n",
    "# Simpan pipeline lengkap ke file pickle\n",
    "with open(\"BestModel_CLF_RandomForest_pingouin.pkl\", \"wb\") as f:\n",
    "    pickle.dump(best_rf_pipeline, f)\n",
    "\n",
    "print(\"✅ Pipeline Random Forest terbaik berhasil disimpan ke 'BestModel_CLF_RandomForest_pingouin.pkl'\")\n"
   ]
  }
 ],
 "metadata": {
  "kernelspec": {
   "display_name": "Python 3",
   "language": "python",
   "name": "python3"
  },
  "language_info": {
   "codemirror_mode": {
    "name": "ipython",
    "version": 3
   },
   "file_extension": ".py",
   "mimetype": "text/x-python",
   "name": "python",
   "nbconvert_exporter": "python",
   "pygments_lexer": "ipython3",
   "version": "3.12.6"
  }
 },
 "nbformat": 4,
 "nbformat_minor": 5
}

{
 "cells": [
  {
   "cell_type": "markdown",
   "id": "f76b94de",
   "metadata": {},
   "source": [
    "# 🌤️ Klasifikasi Prakiraan Cuaca\n"
   ]
  },
  {
   "cell_type": "code",
   "execution_count": 1,
   "id": "58526dd6",
   "metadata": {},
   "outputs": [],
   "source": [
    "\n",
    "import numpy as np\n",
    "import pandas as pd                            \n",
    "\n",
    "import matplotlib.pyplot as plt\n",
    "from sklearn.preprocessing import PolynomialFeatures\n",
    "from sklearn.model_selection import train_test_split            \n",
    "from sklearn.model_selection import StratifiedKFold, GridSearchCV\n",
    "from sklearn.ensemble import GradientBoostingClassifier\n",
    "from sklearn.preprocessing import MinMaxScaler,  StandardScaler\n",
    "from sklearn.feature_selection import SelectKBest, SelectPercentile, mutual_info_classif\n",
    "from sklearn.svm import SVC\n",
    "from sklearn.linear_model import LogisticRegression               \n",
    "from sklearn.ensemble import RandomForestClassifier                   \n",
    "\n",
    "\n",
    "from sklearn.pipeline import Pipeline\n",
    "from sklearn.base import clone\n",
    "import time\n",
    "\n",
    "from sklearn.metrics import (\n",
    "    confusion_matrix,\n",
    "    ConfusionMatrixDisplay,\n",
    "    classification_report\n",
    ")\n"
   ]
  },
  {
   "cell_type": "markdown",
   "id": "842ffc14",
   "metadata": {},
   "source": [
    "## **Loading Data**"
   ]
  },
  {
   "cell_type": "code",
   "execution_count": 2,
   "id": "f81d832b",
   "metadata": {},
   "outputs": [
    {
     "data": {
      "text/html": [
       "<div>\n",
       "<style scoped>\n",
       "    .dataframe tbody tr th:only-of-type {\n",
       "        vertical-align: middle;\n",
       "    }\n",
       "\n",
       "    .dataframe tbody tr th {\n",
       "        vertical-align: top;\n",
       "    }\n",
       "\n",
       "    .dataframe thead th {\n",
       "        text-align: right;\n",
       "    }\n",
       "</style>\n",
       "<table border=\"1\" class=\"dataframe\">\n",
       "  <thead>\n",
       "    <tr style=\"text-align: right;\">\n",
       "      <th></th>\n",
       "      <th>Suhu (°C)</th>\n",
       "      <th>Kelembapan (%)</th>\n",
       "      <th>Tekanan (hPa)</th>\n",
       "      <th>Kecepatan Angin (km/jam)</th>\n",
       "      <th>Curah Hujan (mm)</th>\n",
       "      <th>Awan (%)</th>\n",
       "      <th>Radiasi Matahari (W/m²)</th>\n",
       "      <th>Ketinggian (mdpl)</th>\n",
       "      <th>Kelembapan Tanah (%)</th>\n",
       "      <th>pH Tanah</th>\n",
       "      <th>Prakiraan Cuaca</th>\n",
       "    </tr>\n",
       "  </thead>\n",
       "  <tbody>\n",
       "    <tr>\n",
       "      <th>0</th>\n",
       "      <td>25.71</td>\n",
       "      <td>96.1</td>\n",
       "      <td>959.4</td>\n",
       "      <td>14.1</td>\n",
       "      <td>28.86</td>\n",
       "      <td>57.7</td>\n",
       "      <td>333.0</td>\n",
       "      <td>252.9</td>\n",
       "      <td>31.2</td>\n",
       "      <td>6.44</td>\n",
       "      <td>Hujan</td>\n",
       "    </tr>\n",
       "    <tr>\n",
       "      <th>1</th>\n",
       "      <td>32.25</td>\n",
       "      <td>51.7</td>\n",
       "      <td>988.1</td>\n",
       "      <td>22.5</td>\n",
       "      <td>17.44</td>\n",
       "      <td>26.6</td>\n",
       "      <td>104.2</td>\n",
       "      <td>104.3</td>\n",
       "      <td>14.0</td>\n",
       "      <td>4.07</td>\n",
       "      <td>Cerah</td>\n",
       "    </tr>\n",
       "    <tr>\n",
       "      <th>2</th>\n",
       "      <td>26.94</td>\n",
       "      <td>89.7</td>\n",
       "      <td>975.6</td>\n",
       "      <td>27.1</td>\n",
       "      <td>35.94</td>\n",
       "      <td>NaN</td>\n",
       "      <td>288.2</td>\n",
       "      <td>301.9</td>\n",
       "      <td>40.0</td>\n",
       "      <td>4.04</td>\n",
       "      <td>Hujan</td>\n",
       "    </tr>\n",
       "    <tr>\n",
       "      <th>3</th>\n",
       "      <td>25.34</td>\n",
       "      <td>76.0</td>\n",
       "      <td>983.1</td>\n",
       "      <td>15.3</td>\n",
       "      <td>25.56</td>\n",
       "      <td>18.4</td>\n",
       "      <td>729.5</td>\n",
       "      <td>19.2</td>\n",
       "      <td>31.7</td>\n",
       "      <td>6.24</td>\n",
       "      <td>Hujan</td>\n",
       "    </tr>\n",
       "    <tr>\n",
       "      <th>4</th>\n",
       "      <td>34.25</td>\n",
       "      <td>46.7</td>\n",
       "      <td>959.8</td>\n",
       "      <td>3.9</td>\n",
       "      <td>0.21</td>\n",
       "      <td>27.3</td>\n",
       "      <td>487.5</td>\n",
       "      <td>223.3</td>\n",
       "      <td>59.0</td>\n",
       "      <td>6.68</td>\n",
       "      <td>Cerah</td>\n",
       "    </tr>\n",
       "  </tbody>\n",
       "</table>\n",
       "</div>"
      ],
      "text/plain": [
       "   Suhu (°C)  Kelembapan (%)  Tekanan (hPa)  Kecepatan Angin (km/jam)  \\\n",
       "0      25.71            96.1          959.4                      14.1   \n",
       "1      32.25            51.7          988.1                      22.5   \n",
       "2      26.94            89.7          975.6                      27.1   \n",
       "3      25.34            76.0          983.1                      15.3   \n",
       "4      34.25            46.7          959.8                       3.9   \n",
       "\n",
       "   Curah Hujan (mm)  Awan (%)  Radiasi Matahari (W/m²)  Ketinggian (mdpl)  \\\n",
       "0             28.86      57.7                    333.0              252.9   \n",
       "1             17.44      26.6                    104.2              104.3   \n",
       "2             35.94       NaN                    288.2              301.9   \n",
       "3             25.56      18.4                    729.5               19.2   \n",
       "4              0.21      27.3                    487.5              223.3   \n",
       "\n",
       "   Kelembapan Tanah (%)  pH Tanah Prakiraan Cuaca  \n",
       "0                  31.2      6.44           Hujan  \n",
       "1                  14.0      4.07           Cerah  \n",
       "2                  40.0      4.04           Hujan  \n",
       "3                  31.7      6.24           Hujan  \n",
       "4                  59.0      6.68           Cerah  "
      ]
     },
     "execution_count": 2,
     "metadata": {},
     "output_type": "execute_result"
    }
   ],
   "source": [
    "df_cuaca = pd.read_csv('dpc.csv',header=0)\n",
    "\n",
    "df_cuaca.head()  "
   ]
  },
  {
   "cell_type": "code",
   "execution_count": 3,
   "id": "798a2bca",
   "metadata": {},
   "outputs": [
    {
     "name": "stdout",
     "output_type": "stream",
     "text": [
      "Jumlah baris, kolom: (800, 11)\n",
      "\n",
      "Tipe data:\n",
      "Suhu (°C)                   float64\n",
      "Kelembapan (%)              float64\n",
      "Tekanan (hPa)               float64\n",
      "Kecepatan Angin (km/jam)    float64\n",
      "Curah Hujan (mm)            float64\n",
      "Awan (%)                    float64\n",
      "Radiasi Matahari (W/m²)     float64\n",
      "Ketinggian (mdpl)           float64\n",
      "Kelembapan Tanah (%)        float64\n",
      "pH Tanah                    float64\n",
      "Prakiraan Cuaca              object\n",
      "dtype: object\n"
     ]
    }
   ],
   "source": [
    "print(\"Jumlah baris, kolom:\", df_cuaca.shape)  \n",
    "print(\"\\nTipe data:\")\n",
    "print(df_cuaca.dtypes)"
   ]
  },
  {
   "cell_type": "code",
   "execution_count": 4,
   "id": "fadd6c8e",
   "metadata": {},
   "outputs": [
    {
     "data": {
      "text/html": [
       "<div>\n",
       "<style scoped>\n",
       "    .dataframe tbody tr th:only-of-type {\n",
       "        vertical-align: middle;\n",
       "    }\n",
       "\n",
       "    .dataframe tbody tr th {\n",
       "        vertical-align: top;\n",
       "    }\n",
       "\n",
       "    .dataframe thead th {\n",
       "        text-align: right;\n",
       "    }\n",
       "</style>\n",
       "<table border=\"1\" class=\"dataframe\">\n",
       "  <thead>\n",
       "    <tr style=\"text-align: right;\">\n",
       "      <th></th>\n",
       "      <th>Suhu (°C)</th>\n",
       "      <th>Kelembapan (%)</th>\n",
       "      <th>Kecepatan Angin (km/jam)</th>\n",
       "      <th>Curah Hujan (mm)</th>\n",
       "      <th>Awan (%)</th>\n",
       "      <th>Radiasi Matahari (W/m²)</th>\n",
       "      <th>Ketinggian (mdpl)</th>\n",
       "      <th>Prakiraan Cuaca</th>\n",
       "    </tr>\n",
       "  </thead>\n",
       "  <tbody>\n",
       "    <tr>\n",
       "      <th>0</th>\n",
       "      <td>25.71</td>\n",
       "      <td>96.1</td>\n",
       "      <td>14.1</td>\n",
       "      <td>28.86</td>\n",
       "      <td>57.7</td>\n",
       "      <td>333.0</td>\n",
       "      <td>252.9</td>\n",
       "      <td>Hujan</td>\n",
       "    </tr>\n",
       "    <tr>\n",
       "      <th>1</th>\n",
       "      <td>32.25</td>\n",
       "      <td>51.7</td>\n",
       "      <td>22.5</td>\n",
       "      <td>17.44</td>\n",
       "      <td>26.6</td>\n",
       "      <td>104.2</td>\n",
       "      <td>104.3</td>\n",
       "      <td>Cerah</td>\n",
       "    </tr>\n",
       "    <tr>\n",
       "      <th>2</th>\n",
       "      <td>26.94</td>\n",
       "      <td>89.7</td>\n",
       "      <td>27.1</td>\n",
       "      <td>35.94</td>\n",
       "      <td>NaN</td>\n",
       "      <td>288.2</td>\n",
       "      <td>301.9</td>\n",
       "      <td>Hujan</td>\n",
       "    </tr>\n",
       "    <tr>\n",
       "      <th>3</th>\n",
       "      <td>25.34</td>\n",
       "      <td>76.0</td>\n",
       "      <td>15.3</td>\n",
       "      <td>25.56</td>\n",
       "      <td>18.4</td>\n",
       "      <td>729.5</td>\n",
       "      <td>19.2</td>\n",
       "      <td>Hujan</td>\n",
       "    </tr>\n",
       "    <tr>\n",
       "      <th>4</th>\n",
       "      <td>34.25</td>\n",
       "      <td>46.7</td>\n",
       "      <td>3.9</td>\n",
       "      <td>0.21</td>\n",
       "      <td>27.3</td>\n",
       "      <td>487.5</td>\n",
       "      <td>223.3</td>\n",
       "      <td>Cerah</td>\n",
       "    </tr>\n",
       "  </tbody>\n",
       "</table>\n",
       "</div>"
      ],
      "text/plain": [
       "   Suhu (°C)  Kelembapan (%)  Kecepatan Angin (km/jam)  Curah Hujan (mm)  \\\n",
       "0      25.71            96.1                      14.1             28.86   \n",
       "1      32.25            51.7                      22.5             17.44   \n",
       "2      26.94            89.7                      27.1             35.94   \n",
       "3      25.34            76.0                      15.3             25.56   \n",
       "4      34.25            46.7                       3.9              0.21   \n",
       "\n",
       "   Awan (%)  Radiasi Matahari (W/m²)  Ketinggian (mdpl) Prakiraan Cuaca  \n",
       "0      57.7                    333.0              252.9           Hujan  \n",
       "1      26.6                    104.2              104.3           Cerah  \n",
       "2       NaN                    288.2              301.9           Hujan  \n",
       "3      18.4                    729.5               19.2           Hujan  \n",
       "4      27.3                    487.5              223.3           Cerah  "
      ]
     },
     "execution_count": 4,
     "metadata": {},
     "output_type": "execute_result"
    }
   ],
   "source": [
    "df_cuaca = df_cuaca.drop(columns=['Tekanan (hPa)', 'pH Tanah', 'Kelembapan Tanah (%)'], errors='ignore')\n",
    "\n",
    "# Tampilkan 5 baris pertama untuk verifikasi\n",
    "df_cuaca.head()"
   ]
  },
  {
   "cell_type": "markdown",
   "id": "4bdd03d5",
   "metadata": {},
   "source": [
    "## **Pembersihan Data & Tangani Missing Value & Nan**"
   ]
  },
  {
   "cell_type": "code",
   "execution_count": 5,
   "id": "817546bf",
   "metadata": {},
   "outputs": [
    {
     "name": "stdout",
     "output_type": "stream",
     "text": [
      "\n",
      "Jumlah nilai kosong (null) per kolom:\n",
      " Suhu (°C)                   40\n",
      "Kelembapan (%)              40\n",
      "Kecepatan Angin (km/jam)     0\n",
      "Curah Hujan (mm)            40\n",
      "Awan (%)                    40\n",
      "Radiasi Matahari (W/m²)      0\n",
      "Ketinggian (mdpl)            0\n",
      "Prakiraan Cuaca              0\n",
      "dtype: int64\n",
      "\n",
      "Jumlah nilai NaN per kolom:\n",
      " Suhu (°C)                   40\n",
      "Kelembapan (%)              40\n",
      "Kecepatan Angin (km/jam)     0\n",
      "Curah Hujan (mm)            40\n",
      "Awan (%)                    40\n",
      "Radiasi Matahari (W/m²)      0\n",
      "Ketinggian (mdpl)            0\n",
      "Prakiraan Cuaca              0\n",
      "dtype: int64\n"
     ]
    }
   ],
   "source": [
    "# (1) Cek nilai NULL\n",
    "print(\"\\nJumlah nilai kosong (null) per kolom:\\n\", df_cuaca.isnull().sum())\n",
    "\n",
    "# (2) Cek nilai NaN\n",
    "nan_counts = df_cuaca.isna().sum()\n",
    "print(\"\\nJumlah nilai NaN per kolom:\\n\", nan_counts)\n"
   ]
  },
  {
   "cell_type": "code",
   "execution_count": 6,
   "id": "b1e876f2",
   "metadata": {},
   "outputs": [
    {
     "name": "stdout",
     "output_type": "stream",
     "text": [
      "Median Suhu (°C): 27.43\n",
      "Median Awan (%): 49.849999999999994\n",
      "\n",
      "Jumlah nilai kosong setelah penanganan:\n",
      "Suhu (°C)                   0\n",
      "Kelembapan (%)              0\n",
      "Kecepatan Angin (km/jam)    0\n",
      "Curah Hujan (mm)            0\n",
      "Awan (%)                    0\n",
      "Radiasi Matahari (W/m²)     0\n",
      "Ketinggian (mdpl)           0\n",
      "Prakiraan Cuaca             0\n",
      "dtype: int64\n"
     ]
    }
   ],
   "source": [
    "median_suhu = df_cuaca['Suhu (°C)'].median()\n",
    "median_awan = df_cuaca['Awan (%)'].median()\n",
    "\n",
    "# Isi nilai NaN dengan median\n",
    "df_cuaca['Suhu (°C)'] = df_cuaca['Suhu (°C)'].fillna(median_suhu)\n",
    "df_cuaca['Awan (%)'] = df_cuaca['Awan (%)'].fillna(median_awan)\n",
    "df_cuaca['Kelembapan (%)'] = df_cuaca['Kelembapan (%)'].fillna(median_awan)\n",
    "df_cuaca['Curah Hujan (mm)'] = df_cuaca['Curah Hujan (mm)'].fillna(median_awan)\n",
    "\n",
    "# Tampilkan hasil median\n",
    "print(\"Median Suhu (°C):\", median_suhu)\n",
    "print(\"Median Awan (%):\", median_awan)\n",
    "\n",
    "# Cek kembali apakah masih ada NaN\n",
    "print(\"\\nJumlah nilai kosong setelah penanganan:\")\n",
    "print(df_cuaca.isnull().sum())"
   ]
  },
  {
   "cell_type": "code",
   "execution_count": 7,
   "id": "996e64bf",
   "metadata": {},
   "outputs": [
    {
     "name": "stdout",
     "output_type": "stream",
     "text": [
      "\n",
      "Setelah imputasi, nilai kosong per kolom:\n",
      " Suhu (°C)                   0\n",
      "Kelembapan (%)              0\n",
      "Kecepatan Angin (km/jam)    0\n",
      "Curah Hujan (mm)            0\n",
      "Awan (%)                    0\n",
      "Radiasi Matahari (W/m²)     0\n",
      "Ketinggian (mdpl)           0\n",
      "Prakiraan Cuaca             0\n",
      "dtype: int64\n"
     ]
    }
   ],
   "source": [
    "# Validasi ulang\n",
    "print(\"\\nSetelah imputasi, nilai kosong per kolom:\\n\", df_cuaca.isnull().sum())"
   ]
  },
  {
   "cell_type": "markdown",
   "id": "4341abad",
   "metadata": {},
   "source": [
    "## **Pembersihan Data Cek & Hapus Duplikat**"
   ]
  },
  {
   "cell_type": "code",
   "execution_count": 8,
   "id": "b81642e3",
   "metadata": {},
   "outputs": [
    {
     "name": "stdout",
     "output_type": "stream",
     "text": [
      "Jumlah baris duplikat (terhitung ganda): 0\n",
      "Bentuk data sebelum/sesudah hapus duplikat: (800, 8) -> (800, 8)\n"
     ]
    }
   ],
   "source": [
    "before = df_cuaca.shape\n",
    "dupes = df_cuaca[df_cuaca.duplicated(keep=False)]\n",
    "print(f\"Jumlah baris duplikat (terhitung ganda): {dupes.shape[0]}\")\n",
    "df_cuaca2 = df_cuaca.drop_duplicates(keep='first')\n",
    "print(\"Bentuk data sebelum/sesudah hapus duplikat:\", before, \"->\", df_cuaca.shape)\n"
   ]
  },
  {
   "cell_type": "markdown",
   "id": "1da96a01",
   "metadata": {},
   "source": [
    "## **Pembersihan Data Cek & Hapus Outlier**"
   ]
  },
  {
   "cell_type": "code",
   "execution_count": 9,
   "id": "63f7e39c",
   "metadata": {},
   "outputs": [
    {
     "name": "stdout",
     "output_type": "stream",
     "text": [
      "\n",
      "Jumlah baris yang terdeteksi memiliki outlier: 0\n",
      "Ukuran Data Asli: (800, 8)\n",
      "Ukuran Data Setelah Outlier Dihapus: (800, 8)\n",
      "Jumlah baris yang dihapus: 0\n"
     ]
    }
   ],
   "source": [
    "\n",
    "# Deteksi OUTLIER dengan metode IQR \n",
    "df_cuaca3 = df_cuaca2.select_dtypes(include=[np.number])  \n",
    "Q1 = df_cuaca3.quantile(0.25)\n",
    "Q3 = df_cuaca3.quantile(0.75)\n",
    "IQR = Q3 - Q1\n",
    "outliers = ((df_cuaca3 < (Q1 - 1.5 * IQR)) | (df_cuaca3 > (Q3 + 1.5 * IQR))).any(axis=1)\n",
    "print(\"\\nJumlah baris yang terdeteksi memiliki outlier:\", outliers.sum())\n",
    "\n",
    "# Hapus baris yang memiliki outlier\n",
    "df_cuaca_clean = df_cuaca2.loc[~outliers]\n",
    "print(\"Ukuran Data Asli:\", df_cuaca2.shape)\n",
    "print(\"Ukuran Data Setelah Outlier Dihapus:\", df_cuaca_clean.shape)\n",
    "print(\"Jumlah baris yang dihapus:\", outliers.sum())"
   ]
  },
  {
   "cell_type": "markdown",
   "id": "5f5244fd",
   "metadata": {},
   "source": [
    "##  **Encode Label & Pisahkan Fitur–Target**\n"
   ]
  },
  {
   "cell_type": "code",
   "execution_count": 10,
   "id": "2246a75d",
   "metadata": {},
   "outputs": [
    {
     "data": {
      "text/html": [
       "<div>\n",
       "<style scoped>\n",
       "    .dataframe tbody tr th:only-of-type {\n",
       "        vertical-align: middle;\n",
       "    }\n",
       "\n",
       "    .dataframe tbody tr th {\n",
       "        vertical-align: top;\n",
       "    }\n",
       "\n",
       "    .dataframe thead th {\n",
       "        text-align: right;\n",
       "    }\n",
       "</style>\n",
       "<table border=\"1\" class=\"dataframe\">\n",
       "  <thead>\n",
       "    <tr style=\"text-align: right;\">\n",
       "      <th></th>\n",
       "      <th>Suhu (°C)</th>\n",
       "      <th>Kelembapan (%)</th>\n",
       "      <th>Kecepatan Angin (km/jam)</th>\n",
       "      <th>Curah Hujan (mm)</th>\n",
       "      <th>Awan (%)</th>\n",
       "      <th>Radiasi Matahari (W/m²)</th>\n",
       "      <th>Ketinggian (mdpl)</th>\n",
       "      <th>Prakiraan Cuaca</th>\n",
       "    </tr>\n",
       "  </thead>\n",
       "  <tbody>\n",
       "    <tr>\n",
       "      <th>0</th>\n",
       "      <td>25.71</td>\n",
       "      <td>96.1</td>\n",
       "      <td>14.1</td>\n",
       "      <td>28.86</td>\n",
       "      <td>57.70</td>\n",
       "      <td>333.0</td>\n",
       "      <td>252.9</td>\n",
       "      <td>0</td>\n",
       "    </tr>\n",
       "    <tr>\n",
       "      <th>1</th>\n",
       "      <td>32.25</td>\n",
       "      <td>51.7</td>\n",
       "      <td>22.5</td>\n",
       "      <td>17.44</td>\n",
       "      <td>26.60</td>\n",
       "      <td>104.2</td>\n",
       "      <td>104.3</td>\n",
       "      <td>1</td>\n",
       "    </tr>\n",
       "    <tr>\n",
       "      <th>2</th>\n",
       "      <td>26.94</td>\n",
       "      <td>89.7</td>\n",
       "      <td>27.1</td>\n",
       "      <td>35.94</td>\n",
       "      <td>49.85</td>\n",
       "      <td>288.2</td>\n",
       "      <td>301.9</td>\n",
       "      <td>0</td>\n",
       "    </tr>\n",
       "    <tr>\n",
       "      <th>3</th>\n",
       "      <td>25.34</td>\n",
       "      <td>76.0</td>\n",
       "      <td>15.3</td>\n",
       "      <td>25.56</td>\n",
       "      <td>18.40</td>\n",
       "      <td>729.5</td>\n",
       "      <td>19.2</td>\n",
       "      <td>0</td>\n",
       "    </tr>\n",
       "    <tr>\n",
       "      <th>4</th>\n",
       "      <td>34.25</td>\n",
       "      <td>46.7</td>\n",
       "      <td>3.9</td>\n",
       "      <td>0.21</td>\n",
       "      <td>27.30</td>\n",
       "      <td>487.5</td>\n",
       "      <td>223.3</td>\n",
       "      <td>1</td>\n",
       "    </tr>\n",
       "  </tbody>\n",
       "</table>\n",
       "</div>"
      ],
      "text/plain": [
       "   Suhu (°C)  Kelembapan (%)  Kecepatan Angin (km/jam)  Curah Hujan (mm)  \\\n",
       "0      25.71            96.1                      14.1             28.86   \n",
       "1      32.25            51.7                      22.5             17.44   \n",
       "2      26.94            89.7                      27.1             35.94   \n",
       "3      25.34            76.0                      15.3             25.56   \n",
       "4      34.25            46.7                       3.9              0.21   \n",
       "\n",
       "   Awan (%)  Radiasi Matahari (W/m²)  Ketinggian (mdpl)  Prakiraan Cuaca  \n",
       "0     57.70                    333.0              252.9                0  \n",
       "1     26.60                    104.2              104.3                1  \n",
       "2     49.85                    288.2              301.9                0  \n",
       "3     18.40                    729.5               19.2                0  \n",
       "4     27.30                    487.5              223.3                1  "
      ]
     },
     "execution_count": 10,
     "metadata": {},
     "output_type": "execute_result"
    }
   ],
   "source": [
    "# ===============================\n",
    "# Encode Label & Pisahkan Fitur–Target\n",
    "# ===============================\n",
    "\n",
    "# Hujan   → 0 (Cuaca Hujan)\n",
    "# Cerah   → 1 (Cuaca Cerah)\n",
    "\n",
    "# Mengubah label prakiraan cuaca dari huruf menjadi angka\n",
    "df_cuaca2['Prakiraan Cuaca'] = df_cuaca2['Prakiraan Cuaca'].map({'Hujan': 0, 'Cerah': 1})\n",
    "\n",
    "# Menentukan X sebagai fitur (semua kolom kecuali 'Prakiraan Cuaca')\n",
    "X = df_cuaca2.drop(columns=['Prakiraan Cuaca'])\n",
    "\n",
    "# Menentukan y sebagai target (kolom 'Prakiraan Cuaca')\n",
    "y = df_cuaca2['Prakiraan Cuaca']\n",
    "\n",
    "# Menampilkan 5 baris pertama dataframe setelah perubahan\n",
    "df_cuaca2.head()\n"
   ]
  },
  {
   "cell_type": "markdown",
   "id": "5c553a9e",
   "metadata": {},
   "source": [
    "## **Pembagian Data: Train/Test Split**"
   ]
  },
  {
   "cell_type": "code",
   "execution_count": 11,
   "id": "8f64903c",
   "metadata": {},
   "outputs": [
    {
     "name": "stdout",
     "output_type": "stream",
     "text": [
      "Ukuran X_train, X_test: (560, 7) (240, 7)\n"
     ]
    }
   ],
   "source": [
    "X_train, X_test, y_train, y_test = train_test_split(\n",
    "    X, y, test_size=0.3, random_state = 45, stratify=y\n",
    ")                                                           \n",
    "print(\"Ukuran X_train, X_test:\", X_train.shape, X_test.shape)"
   ]
  },
  {
   "cell_type": "markdown",
   "id": "94146046",
   "metadata": {},
   "source": [
    "##  **Membangun Model Gradient Boosting Classifiedengan Pipeline + GridSearchCV**"
   ]
  },
  {
   "cell_type": "code",
   "execution_count": 12,
   "id": "dd961667",
   "metadata": {},
   "outputs": [
    {
     "name": "stdout",
     "output_type": "stream",
     "text": [
      "Menjalankan GridSearch untuk Gradient Boosting...\n",
      "Fitting 5 folds for each of 810 candidates, totalling 4050 fits\n",
      "GridSearch Gradient Boosting selesai dalam 123.63 detik\n"
     ]
    }
   ],
   "source": [
    "# ============================================================\n",
    "#  PIPELINE: Scaling → Feature Selection → Gradient Boosting\n",
    "# ============================================================\n",
    "\n",
    "pipe_gb = Pipeline(steps=[\n",
    "    ('scaling', MinMaxScaler()),              \n",
    "    ('feat_select', SelectKBest()),           \n",
    "    ('clf', GradientBoostingClassifier(\n",
    "        random_state=42\n",
    "    ))\n",
    "])\n",
    "\n",
    "\n",
    "params_grid_gb = [\n",
    "    # Kandidat 1: SelectKBest\n",
    "    {\n",
    "        'feat_select__k': np.arange(5, 15),\n",
    "        'clf__n_estimators': [50, 100, 150],      \n",
    "        'clf__learning_rate': [0.001, 0.002, 0.01],   \n",
    "        'clf__max_depth': [1, 2, 3],               \n",
    "        'clf__min_samples_split': [10, 15, 20]\n",
    "    },\n",
    "]\n",
    "\n",
    "# ------------------------------------------------------------\n",
    "# 3️⃣ StratifiedKFold untuk menjaga proporsi kelas di setiap fold\n",
    "# ------------------------------------------------------------\n",
    "SKF = StratifiedKFold(n_splits=5, shuffle=True, random_state=42)\n",
    "\n",
    "# ------------------------------------------------------------\n",
    "# 4️⃣ Jalankan GridSearchCV untuk mencari kombinasi terbaik\n",
    "# ------------------------------------------------------------\n",
    "gscv_gb = GridSearchCV(\n",
    "    pipe_gb,\n",
    "    params_grid_gb,\n",
    "    cv=SKF,\n",
    "    scoring='f1',           # gunakan F1 agar seimbang antara precision & recall\n",
    "    verbose=1,\n",
    "    n_jobs=-1\n",
    ")\n",
    "\n",
    "print(\"Menjalankan GridSearch untuk Gradient Boosting...\")\n",
    "start = time.time()\n",
    "\n",
    "gscv_gb.fit(X_train, y_train)\n",
    "\n",
    "print(f\"GridSearch Gradient Boosting selesai dalam {time.time() - start:.2f} detik\")"
   ]
  },
  {
   "cell_type": "markdown",
   "id": "9e5e7344",
   "metadata": {},
   "source": [
    "## EVALUASI "
   ]
  },
  {
   "cell_type": "code",
   "execution_count": 13,
   "id": "493a4087",
   "metadata": {},
   "outputs": [
    {
     "name": "stdout",
     "output_type": "stream",
     "text": [
      "CV Score (F1) terbaik: 0.9820856193341593\n",
      "\n",
      "Kombinasi model terbaik:\n",
      " Pipeline(steps=[('scaling', MinMaxScaler()),\n",
      "                ('feat_select', SelectKBest(k=np.int64(5))),\n",
      "                ('clf',\n",
      "                 GradientBoostingClassifier(learning_rate=0.01, max_depth=1,\n",
      "                                            min_samples_split=10,\n",
      "                                            n_estimators=50,\n",
      "                                            random_state=42))])\n",
      "\n",
      "Skor Test (akurasi) Gradient Boosting: 0.9833333333333333\n",
      "\n",
      "Fitur terbaik (terpilih): ['Suhu (°C)' 'Kecepatan Angin (km/jam)' 'Awan (%)'\n",
      " 'Radiasi Matahari (W/m²)' 'Ketinggian (mdpl)']\n"
     ]
    },
    {
     "data": {
      "image/png": "[encoded data removed]",
      "text/plain": [
       "<Figure size 640x480 with 2 Axes>"
      ]
     },
     "metadata": {},
     "output_type": "display_data"
    },
    {
     "name": "stdout",
     "output_type": "stream",
     "text": [
      "\n",
      "Classification Report — Gradient Boosting:\n",
      "               precision    recall  f1-score   support\n",
      "\n",
      "           0       0.98      1.00      0.99       166\n",
      "           1       1.00      0.95      0.97        74\n",
      "\n",
      "    accuracy                           0.98       240\n",
      "   macro avg       0.99      0.97      0.98       240\n",
      "weighted avg       0.98      0.98      0.98       240\n",
      "\n"
     ]
    }
   ],
   "source": [
    "# ------------------------------------------------------------\n",
    "# 5️⃣ Evaluasi hasil GridSearch\n",
    "# ------------------------------------------------------------\n",
    "print(\"CV Score (F1) terbaik:\", gscv_gb.best_score_)\n",
    "print(\"\\nKombinasi model terbaik:\\n\", gscv_gb.best_estimator_)\n",
    "\n",
    "gb_test_score = gscv_gb.best_estimator_.score(X_test, y_test)\n",
    "print(\"\\nSkor Test (akurasi) Gradient Boosting:\", gb_test_score)\n",
    "\n",
    "# ------------------------------------------------------------\n",
    "# 6️⃣ Fitur terbaik (jika selector mendukung get_support)\n",
    "# ------------------------------------------------------------\n",
    "selector = gscv_gb.best_estimator_.named_steps['feat_select']\n",
    "if hasattr(selector, 'get_support'):\n",
    "    mask = selector.get_support()\n",
    "    selected = np.array(X.columns)[mask]\n",
    "    print(\"\\nFitur terbaik (terpilih):\", selected)\n",
    "\n",
    "# ------------------------------------------------------------\n",
    "# 7️⃣ Confusion Matrix & Classification Report\n",
    "# ------------------------------------------------------------\n",
    "gb_pred = gscv_gb.predict(X_test)\n",
    "\n",
    "cm_gb = confusion_matrix(y_test, gb_pred)\n",
    "disp_gb = ConfusionMatrixDisplay(confusion_matrix=cm_gb, display_labels=['0 = Hujan','1 = Cerah'])\n",
    "disp_gb.plot(cmap=plt.cm.Oranges)\n",
    "plt.title(\"Confusion Matrix — Gradient Boosting\")\n",
    "plt.show()\n",
    "\n",
    "print(\"\\nClassification Report — Gradient Boosting:\\n\", classification_report(y_test, gb_pred))"
   ]
  },
  {
   "cell_type": "markdown",
   "id": "a13166ec",
   "metadata": {},
   "source": [
    "##  **Membangun Model Support Vector Machine dengan Pipeline + GridSearchCV**"
   ]
  },
  {
   "cell_type": "code",
   "execution_count": 14,
   "id": "bf30f1a5",
   "metadata": {},
   "outputs": [
    {
     "name": "stdout",
     "output_type": "stream",
     "text": [
      "Menjalankan GridSearch untuk Support Vector Machine...\n",
      "Fitting 5 folds for each of 360 candidates, totalling 1800 fits\n",
      "GridSearch SVM selesai dalam 16.08 detik\n"
     ]
    },
    {
     "name": "stderr",
     "output_type": "stream",
     "text": [
      "c:\\Users\\ASUS\\AppData\\Local\\Programs\\Python\\Python312\\Lib\\site-packages\\numpy\\ma\\core.py:2846: RuntimeWarning: invalid value encountered in cast\n",
      "  _data = np.array(data, dtype=dtype, copy=copy,\n"
     ]
    }
   ],
   "source": [
    "pipe_svm = Pipeline(steps=[\n",
    "    ('scaling', MinMaxScaler()),              \n",
    "    ('feat_select', SelectKBest()),           \n",
    "    ('clf', SVC(\n",
    "        class_weight='balanced',   # menyeimbangkan kelas minoritas\n",
    "        probability=True,          # agar bisa menghitung probabilitas prediksi\n",
    "        random_state=42\n",
    "    ))\n",
    "])\n",
    "\n",
    "# ------------------------------------------------------------\n",
    "# 2️⃣ GridSearch: kombinasi parameter seleksi fitur & model\n",
    "# ------------------------------------------------------------\n",
    "params_grid_svm = [\n",
    "    # Kandidat 1: SelectKBest\n",
    "    {\n",
    "        'feat_select__k': np.arange(5, 15),\n",
    "        'clf__C': [0.1, 1, 10, 100],             # regularisasi\n",
    "        'clf__kernel': ['linear', 'rbf', 'poly'],# jenis kernel\n",
    "        'clf__gamma': ['scale', 'auto']          # parameter kernel RBF/poly\n",
    "    },\n",
    "    # Kandidat 2: SelectPercentile\n",
    "    {\n",
    "        'feat_select': [SelectPercentile()],\n",
    "        'feat_select__percentile': np.arange(30, 80, 10),\n",
    "        'clf__C': [0.1, 1, 10, 100],\n",
    "        'clf__kernel': ['linear', 'rbf', 'poly'],\n",
    "        'clf__gamma': ['scale', 'auto']\n",
    "    }\n",
    "]\n",
    "\n",
    "# ------------------------------------------------------------\n",
    "# 3️⃣ StratifiedKFold untuk validasi berstrata\n",
    "# ------------------------------------------------------------\n",
    "SKF = StratifiedKFold(n_splits=5, shuffle=True, random_state=42)\n",
    "\n",
    "# ------------------------------------------------------------\n",
    "# 4️⃣ Jalankan GridSearchCV\n",
    "# ------------------------------------------------------------\n",
    "gscv_svm = GridSearchCV(\n",
    "    pipe_svm,\n",
    "    params_grid_svm,\n",
    "    cv=SKF,\n",
    "    scoring='f1',           \n",
    "    verbose=1,\n",
    "    n_jobs=-1\n",
    ")\n",
    "\n",
    "print(\"Menjalankan GridSearch untuk Support Vector Machine...\")\n",
    "start = time.time()\n",
    "\n",
    "gscv_svm.fit(X_train, y_train)\n",
    "\n",
    "print(f\"GridSearch SVM selesai dalam {time.time() - start:.2f} detik\")"
   ]
  },
  {
   "cell_type": "markdown",
   "id": "065c9eb1",
   "metadata": {},
   "source": [
    "\n",
    "## EVALUASI"
   ]
  },
  {
   "cell_type": "code",
   "execution_count": 15,
   "id": "f3766f32",
   "metadata": {},
   "outputs": [
    {
     "name": "stdout",
     "output_type": "stream",
     "text": [
      "CV Score (F1) terbaik: 0.9577825415018915\n",
      "\n",
      "Kombinasi model terbaik:\n",
      " Pipeline(steps=[('scaling', MinMaxScaler()),\n",
      "                ('feat_select', SelectPercentile(percentile=np.int64(30))),\n",
      "                ('clf',\n",
      "                 SVC(C=10, class_weight='balanced', kernel='poly',\n",
      "                     probability=True, random_state=42))])\n",
      "\n",
      "Skor Test (akurasi) SVM: 0.9708333333333333\n",
      "\n",
      "Fitur terbaik (terpilih): ['Suhu (°C)' 'Awan (%)']\n"
     ]
    },
    {
     "data": {
      "image/png": "[encoded data removed]",
      "text/plain": [
       "<Figure size 640x480 with 2 Axes>"
      ]
     },
     "metadata": {},
     "output_type": "display_data"
    },
    {
     "name": "stdout",
     "output_type": "stream",
     "text": [
      "\n",
      "Classification Report — Support Vector Machine:\n",
      "               precision    recall  f1-score   support\n",
      "\n",
      "           0       0.98      0.98      0.98       166\n",
      "           1       0.96      0.95      0.95        74\n",
      "\n",
      "    accuracy                           0.97       240\n",
      "   macro avg       0.97      0.96      0.97       240\n",
      "weighted avg       0.97      0.97      0.97       240\n",
      "\n"
     ]
    }
   ],
   "source": [
    "# ------------------------------------------------------------\n",
    "# 5️⃣ Evaluasi hasil GridSearch\n",
    "# ------------------------------------------------------------\n",
    "print(\"CV Score (F1) terbaik:\", gscv_svm.best_score_)\n",
    "print(\"\\nKombinasi model terbaik:\\n\", gscv_svm.best_estimator_)\n",
    "\n",
    "svm_test_score = gscv_svm.best_estimator_.score(X_test, y_test)\n",
    "print(\"\\nSkor Test (akurasi) SVM:\", svm_test_score)\n",
    "\n",
    "# ------------------------------------------------------------\n",
    "# 6️⃣ Fitur terbaik (jika selector mendukung get_support)\n",
    "# ------------------------------------------------------------\n",
    "selector = gscv_svm.best_estimator_.named_steps['feat_select']\n",
    "if hasattr(selector, 'get_support'):\n",
    "    mask = selector.get_support()\n",
    "    selected = np.array(X.columns)[mask]\n",
    "    print(\"\\nFitur terbaik (terpilih):\", selected)\n",
    "\n",
    "# ------------------------------------------------------------\n",
    "# 7️⃣ Confusion Matrix & Classification Report\n",
    "# ------------------------------------------------------------\n",
    "svm_pred = gscv_svm.predict(X_test)\n",
    "\n",
    "cm_svm = confusion_matrix(y_test, svm_pred)\n",
    "disp_svm = ConfusionMatrixDisplay(confusion_matrix=cm_svm, display_labels=['0 = Hujan','1 = Cerah'])\n",
    "disp_svm.plot(cmap=plt.cm.Blues)\n",
    "plt.title(\"Confusion Matrix — Support Vector Machine\")\n",
    "plt.show()\n",
    "\n",
    "print(\"\\nClassification Report — Support Vector Machine:\\n\", classification_report(y_test, svm_pred))"
   ]
  },
  {
   "cell_type": "markdown",
   "id": "9e635a78",
   "metadata": {},
   "source": [
    "## **Langkah Akhir — Visualisasi Perbandingan dua Model Terbaik**"
   ]
  },
  {
   "cell_type": "code",
   "execution_count": 16,
   "id": "4d69216b",
   "metadata": {},
   "outputs": [
    {
     "data": {
      "image/png": "[encoded data removed]",
      "text/plain": [
       "<Figure size 1600x400 with 2 Axes>"
      ]
     },
     "metadata": {},
     "output_type": "display_data"
    }
   ],
   "source": [
    "# Buat figure dengan 2 subplot berdampingan (1 baris, 3 kolom)\n",
    "fig, (ax1, ax2) = plt.subplots(ncols=2, figsize=(16, 4))\n",
    "\n",
    "# Plot Confusion Matrix untuk Logistic Regression\n",
    "disp_gb.plot(ax=ax1, cmap=plt.cm.Oranges, colorbar=False)\n",
    "ax1.set_title(\"Gradient Boosting Classifier\")   # judul subplot pertama\n",
    "\n",
    "# Plot Confusion Matrix untuk Random Forest\n",
    "disp_svm.plot(ax=ax2, cmap=plt.cm.Blues, colorbar=False)\n",
    "ax2.set_title(\"Support Vector Machine\") # judul subplot ketiga\n",
    "\n",
    "# Rapikan tata letak agar subplot tidak tumpang tindih\n",
    "plt.tight_layout()\n",
    "plt.show()  # tampilkan semua plot\n",
    "\n"
   ]
  },
  {
   "cell_type": "code",
   "execution_count": 17,
   "id": "17d91eb2",
   "metadata": {},
   "outputs": [
    {
     "name": "stdout",
     "output_type": "stream",
     "text": [
      "✅ Model Gradient Boosting terbaik berhasil disimpan ke 'BestModel_CLF_GradientBoost_pingouin.pkl'\n"
     ]
    }
   ],
   "source": [
    "import pickle                                 \n",
    "\n",
    "# Ambil model terbaik dari hasil GridSearchCV\n",
    "best_gb_model = gscv_gb.best_estimator_.named_steps['clf']\n",
    "\n",
    "# Simpan model terbaik ke file pickle\n",
    "with open(\"BestModel_CLF_GradientBoost_pingouin.pkl\", \"wb\") as f:   \n",
    "    pickle.dump(best_gb_model, f)\n",
    "\n",
    "print(\"✅ Model Gradient Boosting terbaik berhasil disimpan ke 'BestModel_CLF_GradientBoost_pingouin.pkl'\")\n"
   ]
  }
 ],
 "metadata": {
  "kernelspec": {
   "display_name": "Python 3",
   "language": "python",
   "name": "python3"
  },
  "language_info": {
   "codemirror_mode": {
    "name": "ipython",
    "version": 3
   },
   "file_extension": ".py",
   "mimetype": "text/x-python",
   "name": "python",
   "nbconvert_exporter": "python",
   "pygments_lexer": "ipython3",
   "version": "3.12.6"
  }
 },
 "nbformat": 4,
 "nbformat_minor": 5
}
